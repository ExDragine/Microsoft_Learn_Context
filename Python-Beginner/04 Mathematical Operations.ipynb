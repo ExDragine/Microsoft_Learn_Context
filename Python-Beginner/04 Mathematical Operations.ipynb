{
 "cells": [
  {
   "cell_type": "markdown",
   "metadata": {},
   "source": [
    "# Basic operation"
   ]
  },
  {
   "cell_type": "code",
   "execution_count": null,
   "metadata": {},
   "outputs": [],
   "source": [
    "first_planet = 149597870\n",
    "second_planet = 778547200"
   ]
  },
  {
   "cell_type": "code",
   "execution_count": null,
   "metadata": {},
   "outputs": [],
   "source": [
    "distance_km = second_planet - first_planet\n",
    "distance_mi = distance_km * 1.609344\n",
    "print(distance_km,\"\\n\",distance_mi)"
   ]
  },
  {
   "cell_type": "code",
   "execution_count": null,
   "metadata": {},
   "outputs": [],
   "source": [
    "first_planet_input = input('Enter the distance from the sun for the first planet in KM')\n",
    "second_planet_input = input('Enter the distance from the sun for the second planet in KM')"
   ]
  },
  {
   "cell_type": "code",
   "execution_count": null,
   "metadata": {},
   "outputs": [],
   "source": [
    "first_planet = int(first_planet)\n",
    "second_planet = int(second_planet)\n",
    "distance_km = second_planet - first_planet\n",
    "print(distance_km)"
   ]
  },
  {
   "cell_type": "markdown",
   "metadata": {},
   "source": [
    "# Test data\n",
    "\n",
    "To test your project, run the notebook. You'll be prompted in a dialog to provide the distances. You can use the ones from the following table:\n",
    "\n",
    "| Planet  | Distance from sun |\n",
    "| ------- | ----------------- |\n",
    "| Mercury | 57900000          |\n",
    "| Venus   | 108200000         |\n",
    "| Earth   | 149600000         |\n",
    "| Mars    | 227900000         |\n",
    "| Jupiter | 778600000         |\n",
    "| Saturn  | 1433500000        |\n",
    "| Uranus  | 2872500000        |\n",
    "| Neptune | 4495100000        |"
   ]
  }
 ],
 "metadata": {
  "interpreter": {
   "hash": "c00fd895a36aa2c717762635c614c5688b03000c7cbe6b838ee5f711bd2fc79f"
  },
  "kernelspec": {
   "display_name": "Python 3.9.7 ('base')",
   "language": "python",
   "name": "python3"
  },
  "language_info": {
   "codemirror_mode": {
    "name": "ipython",
    "version": 3
   },
   "file_extension": ".py",
   "mimetype": "text/x-python",
   "name": "python",
   "nbconvert_exporter": "python",
   "pygments_lexer": "ipython3",
   "version": "3.9.7"
  },
  "orig_nbformat": 4
 },
 "nbformat": 4,
 "nbformat_minor": 2
}
