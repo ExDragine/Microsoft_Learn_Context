{
 "cells": [
  {
   "cell_type": "code",
   "execution_count": null,
   "metadata": {},
   "outputs": [],
   "source": [
    "def str_to_bool(value):\n",
    "    try:\n",
    "        value = value.lower()\n",
    "    except AttributeError:\n",
    "        raise TypeError(f\"{value} must be of type string\")\n",
    "    true_values = ['y', 'yes']\n",
    "    false_values = ['no', 'n']\n",
    "\n",
    "    if value in true_values:\n",
    "        return True\n",
    "    if value in false_values:\n",
    "        return False\n",
    "\n",
    "\n",
    "def test_invalid_input(self):\n",
    "    with self.assertRaises(AttributeError):\n",
    "        str_to_bool(1)\n"
   ]
  },
  {
   "cell_type": "code",
   "execution_count": null,
   "metadata": {},
   "outputs": [],
   "source": [
    "import unittest\n",
    "\n",
    "\n",
    "class TestStrToBool(unittest.TestCase):\n",
    "\n",
    "    def test_y_is_true(self):\n",
    "        result = str_to_bool('y')\n",
    "        self.assertTrue(result)\n",
    "\n",
    "    def test_yes_is_true(self):\n",
    "        result = str_to_bool('Yes')\n",
    "        self.assertTrue(result)\n",
    "\n",
    "\n",
    "if __name__ == '__main__':\n",
    "    unittest.main()"
   ]
  }
 ],
 "metadata": {
  "interpreter": {
   "hash": "1882425c3b4fabc3d9812b2bb88e573da3722c6cd108cda16b062a3868ec4930"
  },
  "kernelspec": {
   "display_name": "Python 3.9.7 ('ML')",
   "language": "python",
   "name": "python3"
  },
  "language_info": {
   "codemirror_mode": {
    "name": "ipython",
    "version": 3
   },
   "file_extension": ".py",
   "mimetype": "text/x-python",
   "name": "python",
   "nbconvert_exporter": "python",
   "pygments_lexer": "ipython3",
   "version": "3.9.7"
  },
  "orig_nbformat": 4
 },
 "nbformat": 4,
 "nbformat_minor": 2
}
