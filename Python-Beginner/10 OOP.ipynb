{
 "cells": [
  {
   "cell_type": "code",
   "execution_count": null,
   "metadata": {},
   "outputs": [],
   "source": [
    "class Square:\n",
    "\n",
    "    def __init__(self, w, h):\n",
    "        self.height = h\n",
    "        self.__width = w\n",
    "\n",
    "    def set_side(self, new_side):\n",
    "        self.__height = new_side\n",
    "        self.__width = new_side\n",
    "\n",
    "    @property\n",
    "    def height(self):\n",
    "        return self.__height\n",
    "\n",
    "    @height.setter\n",
    "    def height(self, new_value):\n",
    "        if new_value >= 0:\n",
    "            self.__height = new_value\n",
    "        else:\n",
    "            raise Exception(\"Value must be larger than 0\")\n"
   ]
  }
 ],
 "metadata": {
  "language_info": {
   "name": "python"
  },
  "orig_nbformat": 4
 },
 "nbformat": 4,
 "nbformat_minor": 2
}
