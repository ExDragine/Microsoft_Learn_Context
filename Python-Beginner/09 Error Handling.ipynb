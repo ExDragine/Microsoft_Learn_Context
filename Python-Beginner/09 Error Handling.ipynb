{
 "cells": [
  {
   "cell_type": "code",
   "execution_count": null,
   "metadata": {},
   "outputs": [],
   "source": [
    "loaded_config = \"\"\"# Rocket Ship Configuration File!\n",
    "fuel_tanks=4\n",
    "oxygen_tanks=3\n",
    "initial_propulsion_level=84\n",
    "$ End of file\"\"\""
   ]
  },
  {
   "cell_type": "code",
   "execution_count": null,
   "metadata": {},
   "outputs": [],
   "source": [
    "parsed_config = {}\n",
    "for line in loaded_config.split('\\n'):\n",
    "    try:\n",
    "        key, value = line.split('=')\n",
    "        parsed_config[key] = value\n",
    "    except ValueError:\n",
    "        print(f'Unable to parse{line}')\n",
    "print(parsed_config)"
   ]
  },
  {
   "cell_type": "code",
   "execution_count": null,
   "metadata": {},
   "outputs": [],
   "source": [
    "def water_left(astronauts, water_left, days_left):\n",
    "    for argument in [astronauts, water_left, days_left]:\n",
    "        try:\n",
    "            # If argument is an int, the following operation will work\n",
    "            argument / 10\n",
    "        except TypeError:\n",
    "            # TypError will be raised only if it isn't the right type\n",
    "            # Raise the same exception but with a better error message\n",
    "            raise TypeError(\n",
    "                f\"All arguments must be of type int, but received: '{argument}'\"\n",
    "            )\n",
    "    daily_usage = astronauts * 11\n",
    "    total_usage = daily_usage * days_left\n",
    "    total_water_left = water_left - total_usage\n",
    "    if total_water_left < 0:\n",
    "        raise RuntimeError(\n",
    "            f\"There is not enough water for {astronauts} astronauts after {days_left} days!\"\n",
    "        )\n",
    "    return f\"Total water left after {days_left} days is: {total_water_left} liters\""
   ]
  },
  {
   "cell_type": "code",
   "execution_count": null,
   "metadata": {},
   "outputs": [],
   "source": [
    "true_values = ['yes', 'y']\n",
    "false_values = ['no', 'n']"
   ]
  },
  {
   "cell_type": "code",
   "execution_count": null,
   "metadata": {},
   "outputs": [],
   "source": [
    "def str_to_bool(value):\n",
    "    value = value.lower()\n",
    "    if value in true_values:\n",
    "        return True\n",
    "    elif value in false_values:\n",
    "        return False\n",
    "    else:\n",
    "        raise ValueError('Invalid entry')"
   ]
  },
  {
   "cell_type": "code",
   "execution_count": null,
   "metadata": {},
   "outputs": [],
   "source": [
    "str_to_bool('yes')"
   ]
  }
 ],
 "metadata": {
  "interpreter": {
   "hash": "1882425c3b4fabc3d9812b2bb88e573da3722c6cd108cda16b062a3868ec4930"
  },
  "kernelspec": {
   "display_name": "Python 3.9.7 ('ML')",
   "language": "python",
   "name": "python3"
  },
  "language_info": {
   "codemirror_mode": {
    "name": "ipython",
    "version": 3
   },
   "file_extension": ".py",
   "mimetype": "text/x-python",
   "name": "python",
   "nbconvert_exporter": "python",
   "pygments_lexer": "ipython3",
   "version": "3.9.7"
  },
  "orig_nbformat": 4
 },
 "nbformat": 4,
 "nbformat_minor": 2
}
