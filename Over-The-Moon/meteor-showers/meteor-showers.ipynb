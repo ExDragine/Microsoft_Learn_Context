{
 "cells": [
  {
   "cell_type": "code",
   "execution_count": null,
   "metadata": {},
   "outputs": [],
   "source": [
    "import numpy as np\n",
    "import pandas as pd"
   ]
  },
  {
   "cell_type": "code",
   "execution_count": null,
   "metadata": {},
   "outputs": [],
   "source": [
    "meteor_showers = pd.read_csv('data/meteorshowers.csv')\n",
    "moon_phases = pd.read_csv('data/moonphases.csv')\n",
    "constellations = pd.read_csv('data/constellations.csv')\n",
    "cities = pd.read_csv('data/cities.csv')"
   ]
  },
  {
   "cell_type": "code",
   "execution_count": null,
   "metadata": {},
   "outputs": [],
   "source": [
    "months = {\n",
    "    'january': 1,\n",
    "    'february': 2,\n",
    "    'march': 3,\n",
    "    'april': 4,\n",
    "    'may': 5,\n",
    "    'june': 6,\n",
    "    'july': 7,\n",
    "    'august': 8,\n",
    "    'september': 9,\n",
    "    'october': 10,\n",
    "    'november': 11,\n",
    "    'december': 12\n",
    "}\n",
    "meteor_showers.bestmonth = meteor_showers.bestmonth.map(months)\n",
    "meteor_showers.startmonth = meteor_showers.startmonth.map(months)\n",
    "meteor_showers.endmonth = meteor_showers.endmonth.map(months)\n",
    "moon_phases.month = moon_phases.month.map(months)\n",
    "constellations.bestmonth = constellations.bestmonth.map(months)"
   ]
  },
  {
   "cell_type": "code",
   "execution_count": null,
   "metadata": {},
   "outputs": [],
   "source": [
    "meteor_showers['startdate'] = pd.to_datetime(\n",
    "    2020 * 10000 + meteor_showers.startmonth * 100 + meteor_showers.startday,\n",
    "    format='%Y%m%d')\n",
    "meteor_showers['enddate'] = pd.to_datetime(\n",
    "    2020 * 10000 + meteor_showers.endmonth * 100 + meteor_showers.endday,\n",
    "    format='%Y%m%d')\n"
   ]
  },
  {
   "cell_type": "code",
   "execution_count": null,
   "metadata": {},
   "outputs": [],
   "source": [
    "moon_phases['date'] = pd.to_datetime(2020 * 10000 + moon_phases.month * 100 +\n",
    "                                     moon_phases.day,\n",
    "                                     format='%Y%m%d')\n"
   ]
  },
  {
   "cell_type": "code",
   "execution_count": null,
   "metadata": {},
   "outputs": [],
   "source": [
    "hemispheres = {'northern': 0, 'southern': 1, 'northern, southern': 3}\n",
    "meteor_showers.hemisphere = meteor_showers.hemisphere.map(hemispheres)\n",
    "constellations.hemisphere = constellations.hemisphere.map(hemispheres)"
   ]
  },
  {
   "cell_type": "code",
   "execution_count": null,
   "metadata": {},
   "outputs": [],
   "source": [
    "phases = {\n",
    "    'new moon': 0,\n",
    "    'third quarter': 0.5,\n",
    "    'first quarter': 0.5,\n",
    "    'full moon': 1.0\n",
    "}\n",
    "moon_phases['percentage'] = moon_phases.moonphase.map(phases)\n",
    "moon_phases.head()"
   ]
  },
  {
   "cell_type": "code",
   "execution_count": null,
   "metadata": {},
   "outputs": [],
   "source": [
    "meteor_showers = meteor_showers.drop(\n",
    "    ['startmonth', 'startday', 'endmonth', 'endday', 'hemisphere'], axis=1)\n",
    "moon_phases = moon_phases.drop(['month', 'day', 'moonphase', 'specialevent'],\n",
    "                               axis=1)\n",
    "constellations = constellations.drop(['besttime'], axis=1)"
   ]
  },
  {
   "cell_type": "code",
   "execution_count": null,
   "metadata": {},
   "outputs": [],
   "source": [
    "lastPhase = 0\n",
    "\n",
    "for index, row in moon_phases.iterrows():\n",
    "    if pd.isnull(row['percentage']):\n",
    "        moon_phases.at[index, 'percentage'] = lastPhase\n",
    "    else:\n",
    "        lastPhase = row['percentage']\n",
    "\n",
    "moon_phases.info()"
   ]
  },
  {
   "cell_type": "code",
   "execution_count": null,
   "metadata": {},
   "outputs": [],
   "source": [
    "def predict_best_meteor_shower_viewing(city):\n",
    "    # Get the latitude of the city from the cities DataFrame\n",
    "    latitude = cities.loc[cities['city'] == city, 'latitude'].iloc[0]"
   ]
  },
  {
   "cell_type": "code",
   "execution_count": null,
   "metadata": {},
   "outputs": [],
   "source": [
    "def predict_best_meteor_shower_viewing(city):\n",
    "    # Get the latitude of the city from the cities DataFrame\n",
    "    latitude = cities.loc[cities['city'] == city, 'latitude'].iloc[0]\n",
    "\n",
    "    return latitude\n",
    "\n",
    "\n",
    "print(predict_best_meteor_shower_viewing('Abu Dhabi'))"
   ]
  },
  {
   "cell_type": "code",
   "execution_count": null,
   "metadata": {},
   "outputs": [],
   "source": [
    "def predict_best_meteor_shower_viewing(city):\n",
    "    # Get the latitude of the city from the cities DataFrame\n",
    "    latitude = cities.loc[cities['city'] == city, 'latitude'].iloc[0]\n",
    "\n",
    "    # Get the list of constellations that are viewable from that latitude\n",
    "    constellation_list = constellations.loc[\n",
    "        (constellations['latitudestart'] >= latitude) &\n",
    "        (constellations['latitudeend'] <= latitude), 'constellation'].tolist()\n",
    "\n",
    "    return constellation_list"
   ]
  },
  {
   "cell_type": "code",
   "execution_count": null,
   "metadata": {},
   "outputs": [],
   "source": [
    "print(predict_best_meteor_shower_viewing('Abu Dhabi'))"
   ]
  },
  {
   "cell_type": "code",
   "execution_count": null,
   "metadata": {},
   "outputs": [],
   "source": [
    "def predict_best_meteor_shower_viewing(city):\n",
    "    # Create an empty string to return the message back to the user\n",
    "    meteor_shower_string = \"\"\n",
    "\n",
    "    if city not in cities.values:\n",
    "        meteor_shower_string = \"Unfortunately, \" + city + \" isn't available for a prediction at this time.\"\n",
    "        return meteor_shower_string\n",
    "\n",
    "    # Get the latitude of the city from the cities DataFrame\n",
    "    latitude = cities.loc[cities['city'] == city, 'latitude'].iloc[0]\n",
    "\n",
    "    # Get the list of constellations that are viewable from that latitude\n",
    "    constellation_list = constellations.loc[\n",
    "        (constellations['latitudestart'] >= latitude) &\n",
    "        (constellations['latitudeend'] <= latitude), 'constellation'].tolist()\n",
    "\n",
    "    # If no constellations are viewable, let the user know\n",
    "    if not constellation_list:\n",
    "        meteor_shower_string = \"Unfortunately, there are no meteor showers viewable from \" + city + \".\"\n",
    "\n",
    "        return meteor_shower_string\n",
    "\n",
    "    meteor_shower_string = \"In \" + city + \" you can see the following meteor showers:\\n\"\n",
    "\n",
    "    # Iterate through each constellation that is viewable from the city\n",
    "    for constellation in constellation_list:\n",
    "        # Find the meteor shower that is nearest to that constellation\n",
    "        meteor_shower = meteor_showers.loc[meteor_showers['radiant'] ==\n",
    "                                           constellation, 'name'].iloc[0]\n",
    "\n",
    "        # Find the start and end dates for that meteor shower\n",
    "        meteor_shower_startdate = meteor_showers.loc[\n",
    "            meteor_showers['radiant'] == constellation, 'startdate'].iloc[0]\n",
    "        meteor_shower_enddate = meteor_showers.loc[\n",
    "            meteor_showers['radiant'] == constellation, 'enddate'].iloc[0]\n",
    "\n",
    "        # Find the Moon phases for each date within the viewable time frame of that meteor shower\n",
    "        moon_phases_list = moon_phases.loc[\n",
    "            (moon_phases['date'] >= meteor_shower_startdate)\n",
    "            & (moon_phases['date'] <= meteor_shower_enddate)]\n",
    "\n",
    "        # Find the first date where the Moon is the least visible\n",
    "        best_moon_date = moon_phases_list.loc[\n",
    "            moon_phases_list['percentage'].idxmin()]['date']\n",
    "\n",
    "        # Add that date to the string to report back to the user\n",
    "        meteor_shower_string += meteor_shower + \" is best seen if you look towards the \" + constellation + \" constellation on \" + best_moon_date.to_pydatetime(\n",
    "        ).strftime(\"%B %d, %Y\") + \".\\n\"\n",
    "\n",
    "    return meteor_shower_string"
   ]
  },
  {
   "cell_type": "code",
   "execution_count": null,
   "metadata": {},
   "outputs": [],
   "source": [
    "print(predict_best_meteor_shower_viewing('Abu Dhabi'))"
   ]
  },
  {
   "cell_type": "code",
   "execution_count": null,
   "metadata": {},
   "outputs": [],
   "source": [
    "change_meteor_shower = {\n",
    "    'name': 'Chang\\'e',\n",
    "    'radiant': 'Draco',\n",
    "    'bestmonth': 'october',\n",
    "    'startmonth': 'october',\n",
    "    'startday': 1,\n",
    "    'endmonth': 'october',\n",
    "    'endday': 31,\n",
    "    'hemisphere': 'northern',\n",
    "    'preferredhemisphere': 'northern'\n",
    "}\n",
    "\n",
    "meteor_showers = meteor_showers.append(change_meteor_shower, ignore_index=True)"
   ]
  },
  {
   "cell_type": "code",
   "execution_count": null,
   "metadata": {},
   "outputs": [],
   "source": [
    "draco_constellation = {\n",
    "    'constellation': 'Draco',\n",
    "    'bestmonth': 'july',\n",
    "    'latitudestart': 90,\n",
    "    'latitudeend': -15,\n",
    "    'besttime': 2100,\n",
    "    'hemisphere': 'northern'\n",
    "}\n",
    "\n",
    "constellations = constellations.append(draco_constellation, ignore_index=True)"
   ]
  },
  {
   "cell_type": "code",
   "execution_count": null,
   "metadata": {},
   "outputs": [],
   "source": [
    "print(predict_best_meteor_shower_viewing('Beijing'))"
   ]
  },
  {
   "cell_type": "code",
   "execution_count": null,
   "metadata": {},
   "outputs": [],
   "source": [
    "if meteor_shower == 'Chang\\'e':\n",
    "            # For the film meteor shower, find the date where the Moon is the most visible\n",
    "            best_moon_date = moon_phases_list.loc[moon_phases_list['percentage'].idxmax()]['date']\n",
    "\n",
    "            # Add that date to the string to report back to the user\n",
    "            meteor_shower_string += \"Though the Moon will be bright, \" + meteor_shower + \"'s meteor shower is best seen if you look towards the \" + constellation + \" constellation on \" +  best_moon_date.to_pydatetime().strftime(\"%B %d, %Y\") + \".\\n\"\n",
    "else:\n",
    "            # Find the first date where the Moon is the least visible\n",
    "            best_moon_date = moon_phases_list.loc[moon_phases_list['percentage'].idxmin()]['date']\n",
    "\n",
    "            # Add that date to the string to report back to the user\n",
    "            meteor_shower_string += meteor_shower + \" is best seen if you look towards the \" + constellation + \" constellation on \" +  best_moon_date.to_pydatetime().strftime(\"%B %d, %Y\") + \".\\n\""
   ]
  }
 ],
 "metadata": {
  "interpreter": {
   "hash": "1882425c3b4fabc3d9812b2bb88e573da3722c6cd108cda16b062a3868ec4930"
  },
  "kernelspec": {
   "display_name": "Python 3.9.7 ('ML')",
   "language": "python",
   "name": "python3"
  },
  "language_info": {
   "codemirror_mode": {
    "name": "ipython",
    "version": 3
   },
   "file_extension": ".py",
   "mimetype": "text/x-python",
   "name": "python",
   "nbconvert_exporter": "python",
   "pygments_lexer": "ipython3",
   "version": "3.9.7"
  },
  "orig_nbformat": 4
 },
 "nbformat": 4,
 "nbformat_minor": 2
}
