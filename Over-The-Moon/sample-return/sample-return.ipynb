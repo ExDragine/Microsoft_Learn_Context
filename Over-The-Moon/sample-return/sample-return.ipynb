{
 "cells": [
  {
   "cell_type": "code",
   "execution_count": null,
   "metadata": {},
   "outputs": [],
   "source": [
    "import pandas as pd\n",
    "rock_samples = pd.read_csv('data/rocksamples.csv')\n",
    "rock_samples.head()"
   ]
  },
  {
   "cell_type": "code",
   "execution_count": null,
   "metadata": {},
   "outputs": [],
   "source": [
    "rock_samples['Weight (g)'] = rock_samples['Weight (g)'].apply(\n",
    "    lambda x: x * 0.001)\n",
    "rock_samples.rename(columns={'Weight (g)': 'Weight (kg)'}, inplace=True)\n",
    "rock_samples.head()"
   ]
  },
  {
   "cell_type": "code",
   "execution_count": null,
   "metadata": {},
   "outputs": [],
   "source": [
    "missions = pd.DataFrame()\n",
    "missions['Mission'] = rock_samples['Mission'].unique()\n",
    "missions.head()"
   ]
  },
  {
   "cell_type": "code",
   "execution_count": null,
   "metadata": {},
   "outputs": [],
   "source": [
    "sample_total_weight = rock_samples.groupby('Mission')['Weight (kg)'].sum()\n",
    "missions = pd.merge(missions, sample_total_weight, on='Mission')\n",
    "missions.rename(columns={'Weight (kg)': 'Sample weight (kg)'}, inplace=True)\n",
    "missions"
   ]
  },
  {
   "cell_type": "code",
   "execution_count": null,
   "metadata": {},
   "outputs": [],
   "source": [
    "missions['Weight diff'] = missions['Sample weight (kg)'].diff()\n",
    "missions['Weight diff'] = missions['Weight diff'].fillna(value=0)\n",
    "missions"
   ]
  },
  {
   "cell_type": "code",
   "execution_count": null,
   "metadata": {},
   "outputs": [],
   "source": [
    "missions['Lunar module (LM)'] = [\n",
    "    'Eagle (LM-5)', 'Intrepid (LM-6)', 'Antares (LM-8)', 'Falcon (LM-10)',\n",
    "    'Orion (LM-11)', 'Challenger (LM-12)'\n",
    "]\n",
    "missions['LM mass (kg)'] = [15103, 15235, 15264, 16430, 16445, 16456]\n",
    "missions['LM mass diff'] = missions['LM mass (kg)'].diff()\n",
    "missions['LM mass diff'] = missions['LM mass diff'].fillna(value=0)\n",
    "\n",
    "missions['Command module (CM)'] = [\n",
    "    'Columbia (CSM-107)', 'Yankee Clipper (CM-108)', 'Kitty Hawk (CM-110)',\n",
    "    'Endeavor (CM-112)', 'Casper (CM-113)', 'America (CM-114)'\n",
    "]\n",
    "missions['CM mass (kg)'] = [5560, 5609, 5758, 5875, 5840, 5960]\n",
    "missions['CM mass diff'] = missions['CM mass (kg)'].diff()\n",
    "missions['CM mass diff'] = missions['CM mass diff'].fillna(value=0)\n",
    "\n",
    "missions"
   ]
  },
  {
   "cell_type": "code",
   "execution_count": null,
   "metadata": {},
   "outputs": [],
   "source": [
    "missions[\n",
    "    'Total weight (kg)'] = missions['LM mass (kg)'] + missions['CM mass (kg)']\n",
    "missions[\n",
    "    'Total weight diff'] = missions['LM mass diff'] + missions['CM mass diff']\n",
    "missions"
   ]
  },
  {
   "cell_type": "code",
   "execution_count": null,
   "metadata": {},
   "outputs": [],
   "source": [
    "# Sample-to-weight ratio\n",
    "saturnVPayload = 43500\n",
    "missions[\n",
    "    'Crewed area : Payload'] = missions['Total weight (kg)'] / saturnVPayload\n",
    "missions['Sample : Crewed area'] = missions['Sample weight (kg)'] / missions[\n",
    "    'Total weight (kg)']\n",
    "missions['Sample : Payload'] = missions['Sample weight (kg)'] / saturnVPayload\n",
    "missions"
   ]
  },
  {
   "cell_type": "code",
   "execution_count": null,
   "metadata": {},
   "outputs": [],
   "source": [
    "crewedArea_payload_ratio = missions['Crewed area : Payload'].mean()\n",
    "sample_crewedArea_ratio = missions['Sample : Crewed area'].mean()\n",
    "sample_payload_ratio = missions['Sample : Payload'].mean()\n",
    "print(crewedArea_payload_ratio)\n",
    "print(sample_crewedArea_ratio)\n",
    "print(sample_payload_ratio)"
   ]
  },
  {
   "cell_type": "code",
   "execution_count": null,
   "metadata": {},
   "outputs": [],
   "source": [
    "artemis_crewedArea = 26520\n",
    "artemis_mission = pd.DataFrame({\n",
    "    'Mission': ['artemis1', 'artemis1b', 'artemis2'],\n",
    "    'Total weight (kg)':\n",
    "    [artemis_crewedArea, artemis_crewedArea, artemis_crewedArea],\n",
    "    'Payload (kg)': [26988, 37965, 42955]\n",
    "})\n",
    "artemis_mission"
   ]
  },
  {
   "cell_type": "code",
   "execution_count": null,
   "metadata": {},
   "outputs": [],
   "source": [
    "artemis_mission['Sample weight from total (kg)'] = artemis_mission[\n",
    "    'Total weight (kg)'] * sample_crewedArea_ratio\n",
    "artemis_mission['Sample weight from payload (kg)'] = artemis_mission[\n",
    "    'Payload (kg)'] * sample_payload_ratio\n",
    "artemis_mission"
   ]
  },
  {
   "cell_type": "code",
   "execution_count": null,
   "metadata": {},
   "outputs": [],
   "source": [
    "artemis_mission['Estimated sample weight (kg)'] = (\n",
    "    artemis_mission['Sample weight from payload (kg)'] +\n",
    "    artemis_mission['Sample weight from total (kg)']) / 2\n",
    "artemis_mission"
   ]
  },
  {
   "cell_type": "code",
   "execution_count": null,
   "metadata": {},
   "outputs": [],
   "source": [
    "rock_samples['Remaining (kg)'] = rock_samples['Weight (kg)'] * (\n",
    "    rock_samples['Pristine (%)'] * .01)\n",
    "rock_samples.head()"
   ]
  },
  {
   "cell_type": "code",
   "execution_count": null,
   "metadata": {},
   "outputs": [],
   "source": [
    "rock_samples.describe()"
   ]
  },
  {
   "cell_type": "code",
   "execution_count": null,
   "metadata": {},
   "outputs": [],
   "source": [
    "low_samples = rock_samples.loc[(rock_samples['Weight (kg)'] >= .16)\n",
    "                               & (rock_samples['Pristine (%)'] <= 50)]\n",
    "low_samples.head()"
   ]
  },
  {
   "cell_type": "code",
   "execution_count": null,
   "metadata": {},
   "outputs": [],
   "source": [
    "rock_samples.groupby('Type')['Weight (kg)'].sum()"
   ]
  }
 ],
 "metadata": {
  "interpreter": {
   "hash": "1882425c3b4fabc3d9812b2bb88e573da3722c6cd108cda16b062a3868ec4930"
  },
  "kernelspec": {
   "display_name": "Python 3.9.7 ('ML')",
   "language": "python",
   "name": "python3"
  },
  "language_info": {
   "codemirror_mode": {
    "name": "ipython",
    "version": 3
   },
   "file_extension": ".py",
   "mimetype": "text/x-python",
   "name": "python",
   "nbconvert_exporter": "python",
   "pygments_lexer": "ipython3",
   "version": "3.9.7"
  },
  "orig_nbformat": 4
 },
 "nbformat": 4,
 "nbformat_minor": 2
}
